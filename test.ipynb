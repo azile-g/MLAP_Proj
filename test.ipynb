{
 "cells": [
  {
   "cell_type": "code",
   "execution_count": 1,
   "metadata": {},
   "outputs": [],
   "source": [
    "%load_ext autoreload\n",
    "%autoreload 2"
   ]
  },
  {
   "cell_type": "code",
   "execution_count": 17,
   "metadata": {},
   "outputs": [],
   "source": [
    "import pandas as pd \n",
    "import numpy as np\n",
    "from datetime import datetime \n",
    "\n",
    "import csv\n",
    "import requests\n",
    "\n",
    "from pairs_selection.api_wrapper import alph_settings as alph, val_steps as val, alph_api_wrapper as wrap"
   ]
  },
  {
   "cell_type": "code",
   "execution_count": 24,
   "metadata": {},
   "outputs": [],
   "source": [
    "settings = alph(\n",
    "    apikey = \"TACZtZi8hd383vPZAVTsyxKLrbSaCdvqK6\", \n",
    "    site = \"https://www.alphavantage.co/query?\", \n",
    "    date_range = [datetime(2021, 8, 9), datetime(2022, 8, 9)]\n",
    "    )"
   ]
  },
  {
   "cell_type": "code",
   "execution_count": 34,
   "metadata": {},
   "outputs": [],
   "source": [
    "tker_lst = val.get_valid_tkers(settings)"
   ]
  },
  {
   "cell_type": "code",
   "execution_count": 46,
   "metadata": {},
   "outputs": [
    {
     "name": "stdout",
     "output_type": "stream",
     "text": [
      "[datetime.datetime(2021, 8, 9, 0, 0), datetime.datetime(2022, 8, 9, 0, 0)]\n",
      "['symbol', 'name', 'exchange', 'assetType', 'ipoDate', 'delistingDate', 'status']\n",
      "['A', 'Agilent Technologies Inc', 'NYSE', 'Stock', '1999-11-18', 'null', 'Active']\n",
      "['AA', 'Alcoa Corp', 'NYSE', 'Stock', '2016-10-18', 'null', 'Active']\n",
      "['AAA', 'AXS FIRST PRIORITY CLO BOND ETF ', 'NYSE ARCA', 'ETF', '2020-09-09', 'null', 'Active']\n",
      "['AAAU', 'Goldman Sachs Physical Gold ETF', 'BATS', 'ETF', '2018-08-15', 'null', 'Active']\n",
      "['symbol', 'name', 'exchange', 'assetType', 'ipoDate', 'delistingDate', 'status']\n",
      "['A', 'Agilent Technologies Inc', 'NYSE', 'Stock', '1999-11-18', 'null', 'Active']\n",
      "['AA', 'Alcoa Corp', 'NYSE', 'Stock', '2016-10-18', 'null', 'Active']\n",
      "['AAA', 'AXS FIRST PRIORITY CLO BOND ETF ', 'NYSE ARCA', 'ETF', '2020-09-09', 'null', 'Active']\n",
      "['AAAU', 'Goldman Sachs Physical Gold ETF', 'BATS', 'ETF', '2018-08-15', 'null', 'Active']\n"
     ]
    }
   ],
   "source": [
    "print()\n",
    "for i in tker_lst.keys(): \n",
    "    for row in tker_lst[i][:5]: \n",
    "        print(row)"
   ]
  },
  {
   "cell_type": "code",
   "execution_count": 43,
   "metadata": {},
   "outputs": [
    {
     "name": "stdout",
     "output_type": "stream",
     "text": [
      "{'microsoft': ['MSFT', '0QYP.LON', 'MSF.DEX', 'MSF.FRK', 'MSFT34.SAO'], 'meta': ['META', 'METAX', 'META.LON', 'METEX.PAR', 'METALCO.BSE', 'MTCR', 'ALMTA.PAR', 'METALFORGE.BSE', 'AIU', '7ME.FRK']}\n"
     ]
    }
   ],
   "source": [
    "CSV_URL = 'https://www.alphavantage.co/query?function=LISTING_STATUS&apikey=demo'\n",
    "\n",
    "with requests.Session() as s:\n",
    "    download = s.get(CSV_URL)\n",
    "    decoded_content = download.content.decode('utf-8')\n",
    "    cr = csv.reader(decoded_content.splitlines(), delimiter=',')\n",
    "    my_list = list(cr)\n",
    "    for row in my_list:\n",
    "        print(row)\n"
   ]
  },
  {
   "cell_type": "code",
   "execution_count": 8,
   "metadata": {},
   "outputs": [
    {
     "name": "stdout",
     "output_type": "stream",
     "text": [
      "['time', 'open', 'high', 'low', 'close', 'volume']\n",
      "['2022-10-10 20:00:00', '117.65', '117.65', '117.65', '117.65', '905']\n",
      "['2022-10-10 19:00:00', '117.7', '117.75', '117.7', '117.75', '1786']\n",
      "['2022-10-10 18:00:00', '117.5', '117.5', '117.5', '117.5', '100']\n",
      "['2022-10-10 17:00:00', '117.75', '118.4', '117.75', '117.75', '2159137']\n",
      "['2022-10-10 16:00:00', '117.93', '118.25', '117.76', '117.8', '828077']\n",
      "['2022-10-10 15:00:00', '118.17', '118.3309', '117.825', '117.97', '316454']\n",
      "['2022-10-10 14:00:00', '117.2', '118.25', '117.04', '118.15', '527808']\n",
      "['2022-10-10 13:00:00', '118.07', '118.2', '117.21', '117.22', '316137']\n",
      "['2022-10-10 12:00:00', '118.28', '118.44', '117.62', '118.075', '487181']\n"
     ]
    }
   ],
   "source": [
    "#test case on IBM\n",
    "from pairs_selection.api_wrapper import alph_api_wrapper\n",
    "\n",
    "\n",
    "function = \"TIME_SERIES_INTRADAY_EXTENDED\"\n",
    "ticker_lst = [\"IBM\", \"AAPL\", \"MSFT\"]\n",
    "interval = \"60min\"\n",
    "slice = [f\"year1month{i}\" for i in range(1, 4)] #first three months of intraday data\n",
    "outputsize = \"compact\"\n",
    "test = alph_api_wrapper.intraday_url(settings, function, ticker_lst, interval, slice = slice, outputsize = outputsize)\n",
    "\n",
    "test_url = test[\"IBM\"][0]\n",
    "test_obj = alph_api_wrapper.get_csv_data(test_url, pretty_print = 10)"
   ]
  },
  {
   "cell_type": "code",
   "execution_count": null,
   "metadata": {},
   "outputs": [],
   "source": [
    "#get all tickers in the list \n",
    "full_dict = {}\n",
    "for i in test.keys(): \n",
    "    for j in test[i].keys(): \n",
    "        \n",
    "    #full_dict[i] = "
   ]
  },
  {
   "cell_type": "code",
   "execution_count": 45,
   "metadata": {},
   "outputs": [
    {
     "name": "stdout",
     "output_type": "stream",
     "text": [
      "2761.3333333333335 92.04444444444445 11.505555555555556\n"
     ]
    }
   ],
   "source": [
    "mth = len(test_obj)/3 #per month \n",
    "day = mth/30 #per day\n",
    "t_hr = day/8 #per trading hour\n",
    "print(mth, day, t_hr)"
   ]
  }
 ],
 "metadata": {
  "kernelspec": {
   "display_name": "Python 3.8.5 ('base')",
   "language": "python",
   "name": "python3"
  },
  "language_info": {
   "codemirror_mode": {
    "name": "ipython",
    "version": 3
   },
   "file_extension": ".py",
   "mimetype": "text/x-python",
   "name": "python",
   "nbconvert_exporter": "python",
   "pygments_lexer": "ipython3",
   "version": "3.8.5"
  },
  "orig_nbformat": 4,
  "vscode": {
   "interpreter": {
    "hash": "4bff54381645a63e99071babd6d6003962272887be73fcafefcae22e4354bd48"
   }
  }
 },
 "nbformat": 4,
 "nbformat_minor": 2
}
