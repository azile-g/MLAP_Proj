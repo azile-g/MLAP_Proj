{
 "cells": [
  {
   "cell_type": "code",
   "execution_count": 32,
   "metadata": {},
   "outputs": [
    {
     "name": "stdout",
     "output_type": "stream",
     "text": [
      "The autoreload extension is already loaded. To reload it, use:\n",
      "  %reload_ext autoreload\n"
     ]
    }
   ],
   "source": [
    "%load_ext autoreload\n",
    "%autoreload 2"
   ]
  },
  {
   "cell_type": "code",
   "execution_count": 38,
   "metadata": {},
   "outputs": [],
   "source": [
    "#import api_wrapper as wrap\n",
    "from api_wrapper import alph_api_wrapper as alph \n",
    "from api_wrapper import alph_settings"
   ]
  },
  {
   "cell_type": "code",
   "execution_count": 41,
   "metadata": {},
   "outputs": [],
   "source": [
    "a_s = alph_settings(apikey = \"TACZtZi8hd383vPZAVTsyxKLrbSaCdvqK6\", site = \"https://www.alphavantage.co/query?\")"
   ]
  },
  {
   "cell_type": "code",
   "execution_count": 43,
   "metadata": {},
   "outputs": [
    {
     "name": "stdout",
     "output_type": "stream",
     "text": [
      "{'microsoft': ['MSFT', '0QYP.LON', 'MSF.DEX', 'MSF.FRK', 'MSFT34.SAO'], 'meta': ['META', 'METAX', 'META.LON', 'METEX.PAR', 'METALCO.BSE', 'MTCR', 'ALMTA.PAR', 'METALFORGE.BSE', 'AIU', '7ME.FRK']}\n"
     ]
    }
   ],
   "source": [
    "#search for API tickers (but tbh just google NASDQ ticker)\n",
    "t, tt, ttt = alph.get_search(a_s, [\"microsoft\", \"meta\"])\n",
    "print(ttt)"
   ]
  },
  {
   "cell_type": "code",
   "execution_count": 44,
   "metadata": {},
   "outputs": [
    {
     "name": "stdout",
     "output_type": "stream",
     "text": [
      "['time', 'open', 'high', 'low', 'close', 'volume']\n",
      "['2022-09-19 19:43:00', '127.73', '127.73', '127.73', '127.73', '100']\n",
      "['2022-09-19 18:12:00', '127.73', '127.73', '127.73', '127.73', '100']\n",
      "['2022-09-19 18:03:00', '127.58', '127.58', '127.58', '127.58', '104']\n",
      "['2022-09-19 16:15:00', '127.73', '127.73', '127.73', '127.73', '2627']\n",
      "['2022-09-19 16:14:00', '127.73', '127.73', '127.73', '127.73', '929']\n",
      "['2022-09-19 16:02:00', '127.73', '127.73', '127.73', '127.73', '10086']\n",
      "['2022-09-19 16:01:00', '127.73', '127.73', '127.73', '127.73', '277205']\n",
      "['2022-09-19 16:00:00', '127.65', '127.73', '127.565', '127.72', '81353']\n",
      "['2022-09-19 15:59:00', '127.64', '127.67', '127.59', '127.64', '39265']\n"
     ]
    }
   ],
   "source": [
    "#test case on IBM\n",
    "function = \"TIME_SERIES_INTRADAY_EXTENDED\"\n",
    "ticker_lst = [\"IBM\", \"AAPL\", \"MSFT\"]\n",
    "interval = \"60min\"\n",
    "slice = [f\"year1month{i}\" for i in range(1, 4)] #first three months of intraday data\n",
    "outputsize = \"compact\"\n",
    "test = alph.intraday_url(a_s, function, ticker_lst, interval, slice = slice, outputsize = outputsize)\n",
    "\n",
    "test_url = test[\"IBM\"][0]\n",
    "test_obj = alph.get_csv_data(test_url, pretty_print = 10)"
   ]
  },
  {
   "cell_type": "code",
   "execution_count": 45,
   "metadata": {},
   "outputs": [
    {
     "name": "stdout",
     "output_type": "stream",
     "text": [
      "2761.3333333333335 92.04444444444445 11.505555555555556\n"
     ]
    }
   ],
   "source": [
    "mth = len(test_obj)/3 #per month \n",
    "day = mth/30 #per day\n",
    "t_hr = day/8 #per trading hour\n",
    "print(mth, day, t_hr)"
   ]
  }
 ],
 "metadata": {
  "kernelspec": {
   "display_name": "Python 3.8.5 ('base')",
   "language": "python",
   "name": "python3"
  },
  "language_info": {
   "codemirror_mode": {
    "name": "ipython",
    "version": 3
   },
   "file_extension": ".py",
   "mimetype": "text/x-python",
   "name": "python",
   "nbconvert_exporter": "python",
   "pygments_lexer": "ipython3",
   "version": "3.8.5"
  },
  "orig_nbformat": 4,
  "vscode": {
   "interpreter": {
    "hash": "4bff54381645a63e99071babd6d6003962272887be73fcafefcae22e4354bd48"
   }
  }
 },
 "nbformat": 4,
 "nbformat_minor": 2
}
