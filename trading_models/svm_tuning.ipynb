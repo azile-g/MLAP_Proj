{
 "cells": [
  {
   "cell_type": "code",
   "execution_count": 1,
   "id": "ac54d070",
   "metadata": {},
   "outputs": [],
   "source": [
    "import pandas as pd\n",
    "import numpy as np\n",
    "from datetime import datetime\n",
    "import requests\n",
    "import statsmodels\n",
    "import matplotlib.pyplot as plt\n",
    "import pickle\n",
    "\n",
    "import warnings\n",
    "warnings.filterwarnings('ignore')"
   ]
  },
  {
   "cell_type": "code",
   "execution_count": 2,
   "id": "4660090d",
   "metadata": {},
   "outputs": [],
   "source": [
    "data = pd.read_csv('combined_features.csv',index_col=0)"
   ]
  },
  {
   "cell_type": "code",
   "execution_count": 3,
   "id": "68ea65c0",
   "metadata": {
    "scrolled": true
   },
   "outputs": [
    {
     "data": {
      "text/html": [
       "<div>\n",
       "<style scoped>\n",
       "    .dataframe tbody tr th:only-of-type {\n",
       "        vertical-align: middle;\n",
       "    }\n",
       "\n",
       "    .dataframe tbody tr th {\n",
       "        vertical-align: top;\n",
       "    }\n",
       "\n",
       "    .dataframe thead th {\n",
       "        text-align: right;\n",
       "    }\n",
       "</style>\n",
       "<table border=\"1\" class=\"dataframe\">\n",
       "  <thead>\n",
       "    <tr style=\"text-align: right;\">\n",
       "      <th></th>\n",
       "      <th>vwap</th>\n",
       "      <th>SMA(5)</th>\n",
       "      <th>SMA(10)</th>\n",
       "      <th>12dayEWM</th>\n",
       "      <th>rsi</th>\n",
       "      <th>MACD</th>\n",
       "      <th>mom</th>\n",
       "      <th>mfi</th>\n",
       "      <th>spread</th>\n",
       "    </tr>\n",
       "    <tr>\n",
       "      <th>time</th>\n",
       "      <th></th>\n",
       "      <th></th>\n",
       "      <th></th>\n",
       "      <th></th>\n",
       "      <th></th>\n",
       "      <th></th>\n",
       "      <th></th>\n",
       "      <th></th>\n",
       "      <th></th>\n",
       "    </tr>\n",
       "  </thead>\n",
       "  <tbody>\n",
       "    <tr>\n",
       "      <th>2021-10-04 08:00:00</th>\n",
       "      <td>1.659676</td>\n",
       "      <td>4.768259</td>\n",
       "      <td>4.786339</td>\n",
       "      <td>4.771101</td>\n",
       "      <td>1.107056</td>\n",
       "      <td>0.867368</td>\n",
       "      <td>0.543952</td>\n",
       "      <td>43.744151</td>\n",
       "      <td>102.684738</td>\n",
       "    </tr>\n",
       "    <tr>\n",
       "      <th>2021-10-04 09:00:00</th>\n",
       "      <td>1.659675</td>\n",
       "      <td>4.766889</td>\n",
       "      <td>4.776943</td>\n",
       "      <td>4.769641</td>\n",
       "      <td>1.032303</td>\n",
       "      <td>0.822687</td>\n",
       "      <td>0.844880</td>\n",
       "      <td>42.875897</td>\n",
       "      <td>102.612395</td>\n",
       "    </tr>\n",
       "    <tr>\n",
       "      <th>2021-10-04 10:00:00</th>\n",
       "      <td>1.660783</td>\n",
       "      <td>4.769485</td>\n",
       "      <td>4.775439</td>\n",
       "      <td>4.779400</td>\n",
       "      <td>1.121594</td>\n",
       "      <td>0.918496</td>\n",
       "      <td>2.310488</td>\n",
       "      <td>42.838238</td>\n",
       "      <td>104.369796</td>\n",
       "    </tr>\n",
       "    <tr>\n",
       "      <th>2021-10-04 11:00:00</th>\n",
       "      <td>1.664391</td>\n",
       "      <td>4.774242</td>\n",
       "      <td>4.771703</td>\n",
       "      <td>4.777858</td>\n",
       "      <td>1.000573</td>\n",
       "      <td>0.913061</td>\n",
       "      <td>0.528564</td>\n",
       "      <td>24.307401</td>\n",
       "      <td>103.491902</td>\n",
       "    </tr>\n",
       "    <tr>\n",
       "      <th>2021-10-04 12:00:00</th>\n",
       "      <td>1.664180</td>\n",
       "      <td>4.777072</td>\n",
       "      <td>4.769049</td>\n",
       "      <td>4.770852</td>\n",
       "      <td>0.963529</td>\n",
       "      <td>0.904516</td>\n",
       "      <td>0.586155</td>\n",
       "      <td>11.604788</td>\n",
       "      <td>103.568593</td>\n",
       "    </tr>\n",
       "    <tr>\n",
       "      <th>...</th>\n",
       "      <td>...</td>\n",
       "      <td>...</td>\n",
       "      <td>...</td>\n",
       "      <td>...</td>\n",
       "      <td>...</td>\n",
       "      <td>...</td>\n",
       "      <td>...</td>\n",
       "      <td>...</td>\n",
       "      <td>...</td>\n",
       "    </tr>\n",
       "    <tr>\n",
       "      <th>2022-09-23 13:00:00</th>\n",
       "      <td>1.579399</td>\n",
       "      <td>4.908354</td>\n",
       "      <td>4.900728</td>\n",
       "      <td>4.905692</td>\n",
       "      <td>1.341466</td>\n",
       "      <td>-0.357752</td>\n",
       "      <td>-2.098000</td>\n",
       "      <td>-26.144407</td>\n",
       "      <td>97.885000</td>\n",
       "    </tr>\n",
       "    <tr>\n",
       "      <th>2022-09-23 14:00:00</th>\n",
       "      <td>1.579414</td>\n",
       "      <td>4.905133</td>\n",
       "      <td>4.904967</td>\n",
       "      <td>4.903628</td>\n",
       "      <td>1.290696</td>\n",
       "      <td>-0.426738</td>\n",
       "      <td>-2.333600</td>\n",
       "      <td>-34.984305</td>\n",
       "      <td>97.701400</td>\n",
       "    </tr>\n",
       "    <tr>\n",
       "      <th>2022-09-23 15:00:00</th>\n",
       "      <td>1.579429</td>\n",
       "      <td>4.894920</td>\n",
       "      <td>4.903911</td>\n",
       "      <td>4.890514</td>\n",
       "      <td>1.061713</td>\n",
       "      <td>-0.552944</td>\n",
       "      <td>-3.514100</td>\n",
       "      <td>-43.456076</td>\n",
       "      <td>96.735900</td>\n",
       "    </tr>\n",
       "    <tr>\n",
       "      <th>2022-09-23 16:00:00</th>\n",
       "      <td>1.579460</td>\n",
       "      <td>4.882692</td>\n",
       "      <td>4.900211</td>\n",
       "      <td>4.873021</td>\n",
       "      <td>0.829592</td>\n",
       "      <td>-0.594141</td>\n",
       "      <td>-2.135000</td>\n",
       "      <td>-22.911079</td>\n",
       "      <td>97.380000</td>\n",
       "    </tr>\n",
       "    <tr>\n",
       "      <th>2022-09-23 17:00:00</th>\n",
       "      <td>1.579461</td>\n",
       "      <td>4.871124</td>\n",
       "      <td>4.890918</td>\n",
       "      <td>4.864725</td>\n",
       "      <td>0.901454</td>\n",
       "      <td>-0.599703</td>\n",
       "      <td>-2.090000</td>\n",
       "      <td>-8.862888</td>\n",
       "      <td>97.630000</td>\n",
       "    </tr>\n",
       "  </tbody>\n",
       "</table>\n",
       "<p>2794 rows × 9 columns</p>\n",
       "</div>"
      ],
      "text/plain": [
       "                         vwap    SMA(5)   SMA(10)  12dayEWM       rsi  \\\n",
       "time                                                                    \n",
       "2021-10-04 08:00:00  1.659676  4.768259  4.786339  4.771101  1.107056   \n",
       "2021-10-04 09:00:00  1.659675  4.766889  4.776943  4.769641  1.032303   \n",
       "2021-10-04 10:00:00  1.660783  4.769485  4.775439  4.779400  1.121594   \n",
       "2021-10-04 11:00:00  1.664391  4.774242  4.771703  4.777858  1.000573   \n",
       "2021-10-04 12:00:00  1.664180  4.777072  4.769049  4.770852  0.963529   \n",
       "...                       ...       ...       ...       ...       ...   \n",
       "2022-09-23 13:00:00  1.579399  4.908354  4.900728  4.905692  1.341466   \n",
       "2022-09-23 14:00:00  1.579414  4.905133  4.904967  4.903628  1.290696   \n",
       "2022-09-23 15:00:00  1.579429  4.894920  4.903911  4.890514  1.061713   \n",
       "2022-09-23 16:00:00  1.579460  4.882692  4.900211  4.873021  0.829592   \n",
       "2022-09-23 17:00:00  1.579461  4.871124  4.890918  4.864725  0.901454   \n",
       "\n",
       "                         MACD       mom        mfi      spread  \n",
       "time                                                            \n",
       "2021-10-04 08:00:00  0.867368  0.543952  43.744151  102.684738  \n",
       "2021-10-04 09:00:00  0.822687  0.844880  42.875897  102.612395  \n",
       "2021-10-04 10:00:00  0.918496  2.310488  42.838238  104.369796  \n",
       "2021-10-04 11:00:00  0.913061  0.528564  24.307401  103.491902  \n",
       "2021-10-04 12:00:00  0.904516  0.586155  11.604788  103.568593  \n",
       "...                       ...       ...        ...         ...  \n",
       "2022-09-23 13:00:00 -0.357752 -2.098000 -26.144407   97.885000  \n",
       "2022-09-23 14:00:00 -0.426738 -2.333600 -34.984305   97.701400  \n",
       "2022-09-23 15:00:00 -0.552944 -3.514100 -43.456076   96.735900  \n",
       "2022-09-23 16:00:00 -0.594141 -2.135000 -22.911079   97.380000  \n",
       "2022-09-23 17:00:00 -0.599703 -2.090000  -8.862888   97.630000  \n",
       "\n",
       "[2794 rows x 9 columns]"
      ]
     },
     "execution_count": 3,
     "metadata": {},
     "output_type": "execute_result"
    }
   ],
   "source": [
    "data"
   ]
  },
  {
   "cell_type": "code",
   "execution_count": 4,
   "id": "44d312c8",
   "metadata": {},
   "outputs": [],
   "source": [
    "def gen_labels(df,t,threshold):\n",
    "    # Calculate % return on spread t hours later\n",
    "    fw_ret = df['spread'].diff(periods=t)/df['spread']\n",
    "    \n",
    "    #If the return is more than x%, we should have bought, and hence the label is (1)\n",
    "    #If return is less than x%, we should have sold, and hence label is (-1)\n",
    "    #If in between, do nothing (0)\n",
    "    output = np.select([fw_ret > threshold ,fw_ret < -threshold],[1,-1])\n",
    "    return output"
   ]
  },
  {
   "cell_type": "code",
   "execution_count": 5,
   "id": "8f626d82",
   "metadata": {},
   "outputs": [
    {
     "data": {
      "text/html": [
       "<div>\n",
       "<style scoped>\n",
       "    .dataframe tbody tr th:only-of-type {\n",
       "        vertical-align: middle;\n",
       "    }\n",
       "\n",
       "    .dataframe tbody tr th {\n",
       "        vertical-align: top;\n",
       "    }\n",
       "\n",
       "    .dataframe thead th {\n",
       "        text-align: right;\n",
       "    }\n",
       "</style>\n",
       "<table border=\"1\" class=\"dataframe\">\n",
       "  <thead>\n",
       "    <tr style=\"text-align: right;\">\n",
       "      <th></th>\n",
       "      <th>vwap</th>\n",
       "      <th>SMA(5)</th>\n",
       "      <th>SMA(10)</th>\n",
       "      <th>12dayEWM</th>\n",
       "      <th>rsi</th>\n",
       "      <th>MACD</th>\n",
       "      <th>mom</th>\n",
       "      <th>mfi</th>\n",
       "      <th>spread</th>\n",
       "    </tr>\n",
       "    <tr>\n",
       "      <th>time</th>\n",
       "      <th></th>\n",
       "      <th></th>\n",
       "      <th></th>\n",
       "      <th></th>\n",
       "      <th></th>\n",
       "      <th></th>\n",
       "      <th></th>\n",
       "      <th></th>\n",
       "      <th></th>\n",
       "    </tr>\n",
       "  </thead>\n",
       "  <tbody>\n",
       "    <tr>\n",
       "      <th>2021-10-04 08:00:00</th>\n",
       "      <td>0.744148</td>\n",
       "      <td>0.503772</td>\n",
       "      <td>0.520310</td>\n",
       "      <td>0.507095</td>\n",
       "      <td>0.020827</td>\n",
       "      <td>0.150135</td>\n",
       "      <td>0.024185</td>\n",
       "      <td>0.246218</td>\n",
       "      <td>102.684738</td>\n",
       "    </tr>\n",
       "    <tr>\n",
       "      <th>2021-10-04 09:00:00</th>\n",
       "      <td>0.744142</td>\n",
       "      <td>0.503058</td>\n",
       "      <td>0.515350</td>\n",
       "      <td>0.506332</td>\n",
       "      <td>-0.004853</td>\n",
       "      <td>0.142435</td>\n",
       "      <td>0.036776</td>\n",
       "      <td>0.241323</td>\n",
       "      <td>102.612395</td>\n",
       "    </tr>\n",
       "    <tr>\n",
       "      <th>2021-10-04 10:00:00</th>\n",
       "      <td>0.754814</td>\n",
       "      <td>0.504410</td>\n",
       "      <td>0.514556</td>\n",
       "      <td>0.511432</td>\n",
       "      <td>0.025821</td>\n",
       "      <td>0.158945</td>\n",
       "      <td>0.098097</td>\n",
       "      <td>0.241111</td>\n",
       "      <td>104.369796</td>\n",
       "    </tr>\n",
       "    <tr>\n",
       "      <th>2021-10-04 11:00:00</th>\n",
       "      <td>0.789572</td>\n",
       "      <td>0.506886</td>\n",
       "      <td>0.512584</td>\n",
       "      <td>0.510626</td>\n",
       "      <td>-0.015754</td>\n",
       "      <td>0.158008</td>\n",
       "      <td>0.023541</td>\n",
       "      <td>0.136632</td>\n",
       "      <td>103.491902</td>\n",
       "    </tr>\n",
       "    <tr>\n",
       "      <th>2021-10-04 12:00:00</th>\n",
       "      <td>0.787540</td>\n",
       "      <td>0.508360</td>\n",
       "      <td>0.511182</td>\n",
       "      <td>0.506965</td>\n",
       "      <td>-0.028480</td>\n",
       "      <td>0.156536</td>\n",
       "      <td>0.025950</td>\n",
       "      <td>0.065013</td>\n",
       "      <td>103.568593</td>\n",
       "    </tr>\n",
       "    <tr>\n",
       "      <th>...</th>\n",
       "      <td>...</td>\n",
       "      <td>...</td>\n",
       "      <td>...</td>\n",
       "      <td>...</td>\n",
       "      <td>...</td>\n",
       "      <td>...</td>\n",
       "      <td>...</td>\n",
       "      <td>...</td>\n",
       "      <td>...</td>\n",
       "    </tr>\n",
       "    <tr>\n",
       "      <th>2022-09-23 13:00:00</th>\n",
       "      <td>-0.029126</td>\n",
       "      <td>0.576715</td>\n",
       "      <td>0.580694</td>\n",
       "      <td>0.577422</td>\n",
       "      <td>0.101355</td>\n",
       "      <td>-0.060974</td>\n",
       "      <td>-0.086355</td>\n",
       "      <td>-0.147821</td>\n",
       "      <td>97.885000</td>\n",
       "    </tr>\n",
       "    <tr>\n",
       "      <th>2022-09-23 14:00:00</th>\n",
       "      <td>-0.028974</td>\n",
       "      <td>0.575038</td>\n",
       "      <td>0.582932</td>\n",
       "      <td>0.576344</td>\n",
       "      <td>0.083914</td>\n",
       "      <td>-0.072862</td>\n",
       "      <td>-0.096213</td>\n",
       "      <td>-0.197662</td>\n",
       "      <td>97.701400</td>\n",
       "    </tr>\n",
       "    <tr>\n",
       "      <th>2022-09-23 15:00:00</th>\n",
       "      <td>-0.028836</td>\n",
       "      <td>0.569720</td>\n",
       "      <td>0.582375</td>\n",
       "      <td>0.569492</td>\n",
       "      <td>0.005250</td>\n",
       "      <td>-0.094609</td>\n",
       "      <td>-0.145605</td>\n",
       "      <td>-0.245426</td>\n",
       "      <td>96.735900</td>\n",
       "    </tr>\n",
       "    <tr>\n",
       "      <th>2022-09-23 16:00:00</th>\n",
       "      <td>-0.028532</td>\n",
       "      <td>0.563354</td>\n",
       "      <td>0.580421</td>\n",
       "      <td>0.560351</td>\n",
       "      <td>-0.074492</td>\n",
       "      <td>-0.101708</td>\n",
       "      <td>-0.087903</td>\n",
       "      <td>-0.129591</td>\n",
       "      <td>97.380000</td>\n",
       "    </tr>\n",
       "    <tr>\n",
       "      <th>2022-09-23 17:00:00</th>\n",
       "      <td>-0.028528</td>\n",
       "      <td>0.557330</td>\n",
       "      <td>0.575516</td>\n",
       "      <td>0.556016</td>\n",
       "      <td>-0.049805</td>\n",
       "      <td>-0.102666</td>\n",
       "      <td>-0.086020</td>\n",
       "      <td>-0.050386</td>\n",
       "      <td>97.630000</td>\n",
       "    </tr>\n",
       "  </tbody>\n",
       "</table>\n",
       "<p>2794 rows × 9 columns</p>\n",
       "</div>"
      ],
      "text/plain": [
       "                         vwap    SMA(5)   SMA(10)  12dayEWM       rsi  \\\n",
       "time                                                                    \n",
       "2021-10-04 08:00:00  0.744148  0.503772  0.520310  0.507095  0.020827   \n",
       "2021-10-04 09:00:00  0.744142  0.503058  0.515350  0.506332 -0.004853   \n",
       "2021-10-04 10:00:00  0.754814  0.504410  0.514556  0.511432  0.025821   \n",
       "2021-10-04 11:00:00  0.789572  0.506886  0.512584  0.510626 -0.015754   \n",
       "2021-10-04 12:00:00  0.787540  0.508360  0.511182  0.506965 -0.028480   \n",
       "...                       ...       ...       ...       ...       ...   \n",
       "2022-09-23 13:00:00 -0.029126  0.576715  0.580694  0.577422  0.101355   \n",
       "2022-09-23 14:00:00 -0.028974  0.575038  0.582932  0.576344  0.083914   \n",
       "2022-09-23 15:00:00 -0.028836  0.569720  0.582375  0.569492  0.005250   \n",
       "2022-09-23 16:00:00 -0.028532  0.563354  0.580421  0.560351 -0.074492   \n",
       "2022-09-23 17:00:00 -0.028528  0.557330  0.575516  0.556016 -0.049805   \n",
       "\n",
       "                         MACD       mom       mfi      spread  \n",
       "time                                                           \n",
       "2021-10-04 08:00:00  0.150135  0.024185  0.246218  102.684738  \n",
       "2021-10-04 09:00:00  0.142435  0.036776  0.241323  102.612395  \n",
       "2021-10-04 10:00:00  0.158945  0.098097  0.241111  104.369796  \n",
       "2021-10-04 11:00:00  0.158008  0.023541  0.136632  103.491902  \n",
       "2021-10-04 12:00:00  0.156536  0.025950  0.065013  103.568593  \n",
       "...                       ...       ...       ...         ...  \n",
       "2022-09-23 13:00:00 -0.060974 -0.086355 -0.147821   97.885000  \n",
       "2022-09-23 14:00:00 -0.072862 -0.096213 -0.197662   97.701400  \n",
       "2022-09-23 15:00:00 -0.094609 -0.145605 -0.245426   96.735900  \n",
       "2022-09-23 16:00:00 -0.101708 -0.087903 -0.129591   97.380000  \n",
       "2022-09-23 17:00:00 -0.102666 -0.086020 -0.050386   97.630000  \n",
       "\n",
       "[2794 rows x 9 columns]"
      ]
     },
     "execution_count": 5,
     "metadata": {},
     "output_type": "execute_result"
    }
   ],
   "source": [
    "X = data.copy()\n",
    "X = (X-X.mean())/(X.max()-X.min())\n",
    "X['spread'] = data['spread']\n",
    "X"
   ]
  },
  {
   "cell_type": "code",
   "execution_count": 6,
   "id": "e2c5c9b7",
   "metadata": {},
   "outputs": [],
   "source": [
    "y = gen_labels(X,t=24,threshold=0.02)"
   ]
  },
  {
   "cell_type": "code",
   "execution_count": 7,
   "id": "8f0e1316",
   "metadata": {
    "scrolled": true
   },
   "outputs": [
    {
     "data": {
      "text/plain": [
       "(array([-1,  0,  1]), array([ 570, 1665,  559], dtype=int64))"
      ]
     },
     "execution_count": 7,
     "metadata": {},
     "output_type": "execute_result"
    }
   ],
   "source": [
    "np.unique(y,return_counts = True)"
   ]
  },
  {
   "cell_type": "code",
   "execution_count": 8,
   "id": "66a125b8",
   "metadata": {},
   "outputs": [],
   "source": [
    "split = int(len(data) * 0.8)\n",
    "\n",
    "X_train = X[:split]\n",
    "y_train = y[:split]\n",
    "\n",
    "X_test = X[split:]\n",
    "y_test = y[split:]"
   ]
  },
  {
   "cell_type": "markdown",
   "id": "995ef224",
   "metadata": {},
   "source": [
    "### Preprocessing: Time Series Split\n",
    "We do not have a lot of data to work with, and hence will need to cross-validate."
   ]
  },
  {
   "cell_type": "code",
   "execution_count": 9,
   "id": "2a85139b",
   "metadata": {},
   "outputs": [],
   "source": [
    "#Game plan: shit out the model (wuds the initial train test tho?), gridsearchcv until it doesn't suck, display final metrics, export the model as pkl\n",
    "from sklearn.svm import SVC\n",
    "from sklearn.metrics import confusion_matrix,classification_report\n",
    "from sklearn.model_selection import cross_val_score, GridSearchCV, TimeSeriesSplit"
   ]
  },
  {
   "cell_type": "code",
   "execution_count": 10,
   "id": "12926293",
   "metadata": {},
   "outputs": [],
   "source": [
    "tscv = TimeSeriesSplit()\n",
    "clf = SVC(decision_function_shape='ovo',class_weight='balanced')"
   ]
  },
  {
   "cell_type": "code",
   "execution_count": 11,
   "id": "25ac5204",
   "metadata": {},
   "outputs": [
    {
     "data": {
      "text/plain": [
       "array([0.11020641, 0.30987267, 0.17718946, 0.23227264, 0.07962673])"
      ]
     },
     "execution_count": 11,
     "metadata": {},
     "output_type": "execute_result"
    }
   ],
   "source": [
    "cross_val_score(clf, X_train, y_train, cv=tscv, scoring='f1_weighted')"
   ]
  },
  {
   "cell_type": "code",
   "execution_count": 12,
   "id": "031defcc",
   "metadata": {},
   "outputs": [],
   "source": [
    "params_grid = [{'kernel': ['rbf'], 'gamma': [1e-3, 1e-4],\n",
    "                     'C': [1, 10, 100, 1000]},\n",
    "                    {'kernel': ['linear'], 'C': [1, 10, 100, 1000]}]"
   ]
  },
  {
   "cell_type": "code",
   "execution_count": 13,
   "id": "b4e58a26",
   "metadata": {},
   "outputs": [
    {
     "data": {
      "text/plain": [
       "GridSearchCV(cv=5,\n",
       "             estimator=SVC(class_weight='balanced',\n",
       "                           decision_function_shape='ovo'),\n",
       "             param_grid=[{'C': [1, 10, 100, 1000], 'gamma': [0.001, 0.0001],\n",
       "                          'kernel': ['rbf']},\n",
       "                         {'C': [1, 10, 100, 1000], 'kernel': ['linear']}],\n",
       "             scoring='f1_weighted')"
      ]
     },
     "execution_count": 13,
     "metadata": {},
     "output_type": "execute_result"
    }
   ],
   "source": [
    "finder = GridSearchCV(clf, params_grid, cv=5, scoring='f1_weighted')\n",
    "finder.fit(X_train,y_train)"
   ]
  },
  {
   "cell_type": "code",
   "execution_count": 14,
   "id": "916567ff",
   "metadata": {},
   "outputs": [
    {
     "data": {
      "text/plain": [
       "{'C': 100, 'kernel': 'linear'}"
      ]
     },
     "execution_count": 14,
     "metadata": {},
     "output_type": "execute_result"
    }
   ],
   "source": [
    "finder.best_params_"
   ]
  },
  {
   "cell_type": "code",
   "execution_count": 15,
   "id": "c608a82d",
   "metadata": {},
   "outputs": [
    {
     "data": {
      "text/plain": [
       "0.7346316776830925"
      ]
     },
     "execution_count": 15,
     "metadata": {},
     "output_type": "execute_result"
    }
   ],
   "source": [
    "finder.best_score_"
   ]
  },
  {
   "cell_type": "code",
   "execution_count": 16,
   "id": "aab42162",
   "metadata": {},
   "outputs": [
    {
     "name": "stdout",
     "output_type": "stream",
     "text": [
      "              precision    recall  f1-score   support\n",
      "\n",
      "          -1       0.73      0.94      0.82       103\n",
      "           0       0.89      0.83      0.86       380\n",
      "           1       0.59      0.57      0.58        76\n",
      "\n",
      "    accuracy                           0.81       559\n",
      "   macro avg       0.74      0.78      0.75       559\n",
      "weighted avg       0.82      0.81      0.81       559\n",
      "\n"
     ]
    }
   ],
   "source": [
    "y_pred = finder.predict(X_test)\n",
    "print(classification_report(y_test,y_pred))"
   ]
  },
  {
   "cell_type": "code",
   "execution_count": 17,
   "id": "5e889ad6",
   "metadata": {},
   "outputs": [],
   "source": [
    "with open('svm_model.pkl', 'wb') as f:\n",
    "    pickle.dump(finder, f)"
   ]
  }
 ],
 "metadata": {
  "kernelspec": {
   "display_name": "Python 3",
   "language": "python",
   "name": "python3"
  },
  "language_info": {
   "codemirror_mode": {
    "name": "ipython",
    "version": 3
   },
   "file_extension": ".py",
   "mimetype": "text/x-python",
   "name": "python",
   "nbconvert_exporter": "python",
   "pygments_lexer": "ipython3",
   "version": "3.8.8"
  }
 },
 "nbformat": 4,
 "nbformat_minor": 5
}
